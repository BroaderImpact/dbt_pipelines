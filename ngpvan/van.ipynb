{
 "cells": [
  {
   "cell_type": "code",
   "execution_count": null,
   "metadata": {},
   "outputs": [],
   "source": [
    "# install dbt and NGP VAN API library\n",
    "pip install dbt\n",
    "pip install ngpvanapi\n"
   ]
  },
  {
   "cell_type": "code",
   "execution_count": null,
   "metadata": {},
   "outputs": [],
   "source": [
    "# create new project\n",
    "dbt init"
   ]
  },
  {
   "attachments": {},
   "cell_type": "markdown",
   "metadata": {},
   "source": [
    "Create a new directory called \"models\" within your dbt project directory, and create a new .sql file within this directory. This file will contain the SQL code for your data pipeline."
   ]
  },
  {
   "cell_type": "code",
   "execution_count": null,
   "metadata": {},
   "outputs": [],
   "source": [
    "# update sql file\n",
    "{{ config(\n",
    "    api_key = 'your_api_key',\n",
    "    base_url='https://api.securevan.com',\n",
    "    version='v4'\n",
    ")}}\n"
   ]
  },
  {
   "attachments": {},
   "cell_type": "markdown",
   "metadata": {},
   "source": [
    "In the SQL file, you can now use the NGP VAN API library to make API requests and retrieve data. For example, you can use the van.people.search method to search for people in your VAN account."
   ]
  },
  {
   "cell_type": "code",
   "execution_count": null,
   "metadata": {},
   "outputs": [],
   "source": [
    "select * from {{van.people.search(search_term='john doe')}};\n"
   ]
  },
  {
   "attachments": {},
   "cell_type": "markdown",
   "metadata": {},
   "source": [
    "Use SQL to transform and store it in a new table or materialized view."
   ]
  },
  {
   "cell_type": "code",
   "execution_count": null,
   "metadata": {},
   "outputs": [],
   "source": [
    "# run pipeline\n",
    "dbt run\n"
   ]
  }
 ],
 "metadata": {
  "language_info": {
   "name": "python"
  },
  "orig_nbformat": 4
 },
 "nbformat": 4,
 "nbformat_minor": 2
}

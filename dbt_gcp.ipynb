{
 "cells": [
  {
   "cell_type": "code",
   "execution_count": 2,
   "metadata": {},
   "outputs": [
    {
     "ename": "SyntaxError",
     "evalue": "invalid syntax (1162710377.py, line 7)",
     "output_type": "error",
     "traceback": [
      "\u001b[0;36m  Cell \u001b[0;32mIn[2], line 7\u001b[0;36m\u001b[0m\n\u001b[0;31m    poetry new dbt-gcp --name analytics\u001b[0m\n\u001b[0m           ^\u001b[0m\n\u001b[0;31mSyntaxError\u001b[0m\u001b[0;31m:\u001b[0m invalid syntax\n"
     ]
    }
   ],
   "source": [
    "import os\n",
    "\n",
    "# 1. Start by creating a new project in Google Cloud Platform and enabling the Cloud SQL and Cloud Storage services.\n",
    "\n",
    "# 2. Next, create a new virtual environment using poetry and activate it.\n",
    "\n",
    "os.system(\"poetry init\")\n",
    "os.system(\"poetry shell\")\n",
    "\n",
    "# 3. Install the dbt package using poetry by running the command: `poetry add dbt`\n",
    "\n",
    "os.system(\"poetry add dbt\")\n",
    "\n",
    "# 4. Create a new directory called \"dbt-project\" within the project and navigate into it.\n",
    "\n",
    "os.system(\"mkdir dbt-project\")\n",
    "os.chdir(\"dbt-project\")\n",
    "\n",
    "# 5. Run the command `dbt init` to create the dbt project structure.\n",
    "\n",
    "os.system(\"dbt init\")\n",
    "\n",
    "# 6. In the \"dbt_project.yml\" file, configure the connections to the Cloud SQL and Cloud Storage services by adding the appropriate credentials.\n",
    "\n",
    "# 7. Create a new directory called \"models\" within the \"dbt-project\" directory and create a new file called \"example_model.sql\" within it.\n",
    "\n",
    "os.system(\"mkdir models\")\n",
    "with open(\"models/example_model.sql\", \"w\") as file:\n",
    "    file.write(\"-- DDL and DML statements to create and populate a table in the Cloud SQL database.\")\n",
    "\n",
    "# 8. Run the command `dbt run` to execute the DDL and DML statements and create the table in the Cloud SQL database.\n",
    "\n",
    "os.system(\"dbt run\")\n",
    "\n",
    "# 9. Create a new directory called \"seeds\" within the \"dbt-project\" directory and create a new file called \"example_seed.sql\" within it.\n",
    "\n",
    "os.system(\"mkdir seeds\")\n",
    "with open(\"seeds/example_seed.sql\", \"w\") as file:\n",
    "    file.write(\"-- DDL and DML statements to seed the table in the Cloud SQL database with data from a CSV file stored in Cloud Storage.\")\n",
    "\n",
    "# 10. Run the command `dbt seed` to execute the DDL and DML statements and seed the table in the Cloud SQL database with data from the CSV file.\n",
    "\n",
    "os.system(\"dbt seed\")\n",
    "\n",
    "# 11. Create a new directory called \"tests\" within the \"dbt-project\" directory and create a new file called \"example_test.sql\" within it.\n",
    "\n",
    "os.system(\"mkdir tests\")\n",
    "with open(\"tests/example_test.sql\", \"w\") as file:\n",
    "    file.write(\"-- DDL and DML statements to test the integrity of the data in the table in the Cloud SQL database.\")\n",
    "\n",
    "# 12. Run the command `dbt test` to execute the DDL and DML statements and test the integrity of the data in the table in the Cloud SQL database.\n",
    "\n",
    "os.system(\"dbt test\")\n",
    "\n",
    "# 13. Repeat steps 7-12 for any additional models, seeds, and tests needed for the project.\n",
    "\n",
    "# 14. Once all the models, seeds, and tests have been created and tested, run the command `dbt deploy` to deploy the project to the Cloud SQL database.\n",
    "\n",
    "os.system(\"dbt deploy\")\n",
    "\n",
    "# 15. The DBT project is now fully set up and running on the Google Cloud Platform using python code and poetry for python dependency management.\n"
   ]
  }
 ],
 "metadata": {
  "kernelspec": {
   "display_name": "Python 3",
   "language": "python",
   "name": "python3"
  },
  "language_info": {
   "codemirror_mode": {
    "name": "ipython",
    "version": 3
   },
   "file_extension": ".py",
   "mimetype": "text/x-python",
   "name": "python",
   "nbconvert_exporter": "python",
   "pygments_lexer": "ipython3",
   "version": "3.10.4"
  },
  "orig_nbformat": 4,
  "vscode": {
   "interpreter": {
    "hash": "3ad933181bd8a04b432d3370b9dc3b0662ad032c4dfaa4e4f1596c548f763858"
   }
  }
 },
 "nbformat": 4,
 "nbformat_minor": 2
}
